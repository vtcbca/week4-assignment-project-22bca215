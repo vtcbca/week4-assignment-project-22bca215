{
 "cells": [
  {
   "cell_type": "code",
   "execution_count": 1,
   "id": "5227b2b5",
   "metadata": {},
   "outputs": [],
   "source": [
    "import sqlite3 as sq\n",
    "import datetime"
   ]
  },
  {
   "cell_type": "code",
   "execution_count": 2,
   "id": "c9f3fa9e",
   "metadata": {},
   "outputs": [],
   "source": [
    "con = sq.connect(\"contactmanagementsystem.db\")"
   ]
  },
  {
   "cell_type": "code",
   "execution_count": 3,
   "id": "9cce2d70",
   "metadata": {},
   "outputs": [],
   "source": [
    "cur = con.cursor()"
   ]
  },
  {
   "cell_type": "code",
   "execution_count": 4,
   "id": "3a635975",
   "metadata": {},
   "outputs": [
    {
     "data": {
      "text/plain": [
       "<sqlite3.Cursor at 0x1d42d7caa40>"
      ]
     },
     "execution_count": 4,
     "metadata": {},
     "output_type": "execute_result"
    }
   ],
   "source": [
    "cur.execute(\"\"\"create table if not exists contact\n",
    "               ( cid int primary key,\n",
    "                 fname text,\n",
    "                 lname text,\n",
    "                 contact number,\n",
    "                 email text,\n",
    "                 city text\n",
    "                 check ( email like '%_@_%._%')\n",
    "                );\"\"\")"
   ]
  },
  {
   "cell_type": "code",
   "execution_count": 5,
   "id": "7af9ecdc",
   "metadata": {},
   "outputs": [
    {
     "data": {
      "text/plain": [
       "<sqlite3.Cursor at 0x1d42d7caa40>"
      ]
     },
     "execution_count": 5,
     "metadata": {},
     "output_type": "execute_result"
    }
   ],
   "source": [
    "\n",
    "cur.execute(\"\"\"create table if not exists details_log\n",
    "                (\n",
    "                    \n",
    "                    fname text,\n",
    "                    lname text,\n",
    "                    newcontact number,\n",
    "                    oldcontact number,\n",
    "                    datetime text,\n",
    "                    operation text\n",
    "                    \n",
    "                )\"\"\")"
   ]
  },
  {
   "cell_type": "code",
   "execution_count": 6,
   "id": "e12a5a5a",
   "metadata": {},
   "outputs": [
    {
     "data": {
      "text/plain": [
       "<sqlite3.Cursor at 0x1d42d7caa40>"
      ]
     },
     "execution_count": 6,
     "metadata": {},
     "output_type": "execute_result"
    }
   ],
   "source": [
    "\n",
    "cur.execute(\"\"\"create trigger if not exists insertdata\n",
    "               after insert on contact\n",
    "               begin\n",
    "                   insert into details_log\n",
    "                   values(new.fname,new.lname,new.contact,'NULL',datetime('now'),'insert');\n",
    "               end;\n",
    "                   \"\"\")\n"
   ]
  },
  {
   "cell_type": "code",
   "execution_count": 7,
   "id": "85d99fc7",
   "metadata": {},
   "outputs": [
    {
     "data": {
      "text/plain": [
       "<sqlite3.Cursor at 0x1d42d7caa40>"
      ]
     },
     "execution_count": 7,
     "metadata": {},
     "output_type": "execute_result"
    }
   ],
   "source": [
    "cur.execute(\"\"\"create trigger if not exists deletedata\n",
    "               after delete on contact\n",
    "               begin\n",
    "                   insert into details_log\n",
    "                   values(old.fname,old.lname,'NULL',old.contact,datetime('now'),'delete');\n",
    "               end;\n",
    "                   \"\"\")"
   ]
  },
  {
   "cell_type": "code",
   "execution_count": 8,
   "id": "5f801863",
   "metadata": {},
   "outputs": [
    {
     "data": {
      "text/plain": [
       "<sqlite3.Cursor at 0x1d42d7caa40>"
      ]
     },
     "execution_count": 8,
     "metadata": {},
     "output_type": "execute_result"
    }
   ],
   "source": [
    "cur.execute(\"\"\"create trigger if not exists updatedata\n",
    "               after update on contact\n",
    "               begin\n",
    "                   insert into details_log\n",
    "                   values(new.fname,new.lname,new.contact,old.contact,datetime('now'),'update');\n",
    "               end;\n",
    "                   \"\"\")\n"
   ]
  },
  {
   "cell_type": "code",
   "execution_count": 9,
   "id": "db87a451",
   "metadata": {},
   "outputs": [],
   "source": [
    "def updaterecord(cd):\n",
    "    newcon=int(input(\"Enter new Contact Number:\"))\n",
    "    cur.execute(f\"Update contact set contact={newcon} where cid={cd};\")\n",
    "    "
   ]
  },
  {
   "cell_type": "code",
   "execution_count": 10,
   "id": "66b68345",
   "metadata": {},
   "outputs": [],
   "source": [
    "def deleterecord(cd):\n",
    "    cur.execute(f\"delete from contact where cid={cd}\")\n",
    "\n",
    "    "
   ]
  },
  {
   "cell_type": "code",
   "execution_count": 11,
   "id": "9fc9b42d",
   "metadata": {},
   "outputs": [],
   "source": [
    "def searchrecord(cd):\n",
    "    cur.execute(f\"select * from contact where cid={cd}\")\n",
    "    row=cur.fetchall()\n",
    "    print(row)\n",
    "    "
   ]
  },
  {
   "cell_type": "code",
   "execution_count": 12,
   "id": "d2d5c429",
   "metadata": {},
   "outputs": [
    {
     "data": {
      "text/plain": [
       "<sqlite3.Cursor at 0x1d42d7caa40>"
      ]
     },
     "execution_count": 12,
     "metadata": {},
     "output_type": "execute_result"
    }
   ],
   "source": [
    "cur.execute(\"\"\"insert into contact values\n",
    "                (101,'priya','patel',6744521720,'patel@gmail.com','delhi'),\n",
    "                (102,'suha','patel',3457685904,'hana@gmail.com','bardoli'),\n",
    "                (103,'ram','shah',7665445645,'patel@gmail.com','madhii'),\n",
    "                (104,'ruhina','gamit',4562879567,'ruh@gmail.com','surat'),\n",
    "                (105,'sunil','rathod',6532212256,'nil@gmail.com','bardoli');\"\"\")"
   ]
  },
  {
   "cell_type": "code",
   "execution_count": 13,
   "id": "d964b216",
   "metadata": {},
   "outputs": [
    {
     "name": "stdout",
     "output_type": "stream",
     "text": [
      "\n",
      "ID:101\n",
      "Fname:priya\n",
      "Lname:patel\n",
      "Contact:6744521720\n",
      "Email:patel@gmail.com\n",
      "city:delhi\n",
      "\n",
      "ID:102\n",
      "Fname:suha\n",
      "Lname:patel\n",
      "Contact:3457685904\n",
      "Email:hana@gmail.com\n",
      "city:bardoli\n",
      "\n",
      "ID:103\n",
      "Fname:ram\n",
      "Lname:shah\n",
      "Contact:7665445645\n",
      "Email:patel@gmail.com\n",
      "city:madhii\n",
      "\n",
      "ID:104\n",
      "Fname:ruhina\n",
      "Lname:gamit\n",
      "Contact:4562879567\n",
      "Email:ruh@gmail.com\n",
      "city:surat\n",
      "\n",
      "ID:105\n",
      "Fname:sunil\n",
      "Lname:rathod\n",
      "Contact:6532212256\n",
      "Email:nil@gmail.com\n",
      "city:bardoli\n"
     ]
    }
   ],
   "source": [
    "cur.execute(\"select * from contact\")\n",
    "row=cur.fetchall()\n",
    "for i in row:\n",
    "    print(f\"\\nID:{i[0]}\\nFname:{i[1]}\\nLname:{i[2]}\\nContact:{i[3]}\\nEmail:{i[4]}\\ncity:{i[5]}\")"
   ]
  },
  {
   "cell_type": "code",
   "execution_count": null,
   "id": "360933c6",
   "metadata": {},
   "outputs": [],
   "source": []
  }
 ],
 "metadata": {
  "kernelspec": {
   "display_name": "Python 3 (ipykernel)",
   "language": "python",
   "name": "python3"
  },
  "language_info": {
   "codemirror_mode": {
    "name": "ipython",
    "version": 3
   },
   "file_extension": ".py",
   "mimetype": "text/x-python",
   "name": "python",
   "nbconvert_exporter": "python",
   "pygments_lexer": "ipython3",
   "version": "3.9.6"
  }
 },
 "nbformat": 4,
 "nbformat_minor": 5
}
